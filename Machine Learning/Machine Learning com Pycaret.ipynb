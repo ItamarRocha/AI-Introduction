{
 "cells": [
  {
   "cell_type": "markdown",
   "metadata": {},
   "source": [
    "# <p style=\"color:darkblue\">Introdução ao Aprendizado de Máquina</p>\n",
    "\n",
    "<hr>\n",
    "\n",
    "\n",
    "\n",
    "\n",
    "* Neste Jupyter-Notebook farei uma introdução ao Aprendizado de Máquina (Machine Learning). Utilizaremos a biblioteca de AutoML Pycaret para entendermos como rodar de forma simples algoritmos preditivos sobre um dataset. O notebook pode ser rodado através do colab pelo link abaixo.\n",
    "\n",
    "<a href=\"https://colab.research.google.com/github/ItamarRocha/AI-Introduction/blob/main/Machine%20Learning/Introdu%C3%A7%C3%A3o%20ao%20Aprendizado%20de%20%20M%C3%A1quina.ipynb\" target=\"_parent\"><img src=\"https://colab.research.google.com/assets/colab-badge.svg\" alt=\"Open In Colab\"/></a>"
   ]
  },
  {
   "cell_type": "markdown",
   "metadata": {},
   "source": [
    "## 1. O que é PyCaret?"
   ]
  },
  {
   "cell_type": "markdown",
   "metadata": {},
   "source": [
    "<p align=\"center\">\n",
    "   <img src=\"https://raw.githubusercontent.com/ItamarRocha/AI-Introduction/main/Machine%20Learning/images/PyCaret.png?token=AMZBEIYBQXIBJLBGMPXUTTLAYU5WK\" width=\"300px\">\n",
    "</p>"
   ]
  },
  {
   "cell_type": "markdown",
   "metadata": {},
   "source": [
    "[PyCaret](https://pycaret.org) é uma biblioteca open source que tem por objetivo **reduzir o trabalho** que as pessoas têm para realizar certas tarefas no universo da Aprendizagem de Máquina. Por exemplo, PyCaret possibilita um ambiente de teste muito mais simples para os que já tem certa experiência e é mais simples e de fácil entendimento para os que não tem tanta experiência com programação ou Aprendizagem de Máquina.\n",
    "\n",
    "Com poucas linhas de código você consegue executar mais de 10 algoritmos sobre seus dados e comparar eles. O trabalho fica muito mais simples."
   ]
  },
  {
   "cell_type": "markdown",
   "metadata": {},
   "source": [
    "## 2. Instalando o PyCaret e outras bibliotecas"
   ]
  },
  {
   "cell_type": "markdown",
   "metadata": {},
   "source": [
    "Para instalar o PyCaret, é necessário apenas rodar o código abaixo dentro de seu Jupyter Notebook (local ou Colab)"
   ]
  },
  {
   "cell_type": "code",
   "execution_count": null,
   "metadata": {},
   "outputs": [],
   "source": [
    "!pip install PyCaret\n",
    "!pip install shap"
   ]
  },
  {
   "cell_type": "markdown",
   "metadata": {},
   "source": [
    "O PyCaret precisa de python 3.6 ou mais atualizado."
   ]
  },
  {
   "cell_type": "markdown",
   "metadata": {},
   "source": [
    "### 2.1 Usuários de Colab\n",
    "Se você estiver usando Google Colab, você precisará rodar o próximo código no seu notebook para poder ver os gráficos interativos:"
   ]
  },
  {
   "cell_type": "code",
   "execution_count": null,
   "metadata": {},
   "outputs": [],
   "source": [
    "from pycaret.utils import enable_colab\n",
    "enable_colab()"
   ]
  },
  {
   "cell_type": "markdown",
   "metadata": {},
   "source": [
    "## 3. Lendo os dados"
   ]
  },
  {
   "cell_type": "markdown",
   "metadata": {},
   "source": [
    "Com o Pycaret, podemos usar dados de duas formas:\n",
    "* Usando pandas\n",
    "```python\n",
    "import pandas as pd\n",
    "data = pd.read_csv(\"data.csv\")\n",
    "```\n",
    "* Usando os datasets open source disponibilizados pelo Pycaret\n",
    "```python\n",
    "from pycaret.datasets import get_data\n",
    "data = get_data('dataset_name')\n",
    "```\n",
    "\n",
    "Abaixo estão listados os datasets disponibilizados\n",
    "\n",
    "<hr>\n",
    "<table style=\"background-color: #fdfdfd;\" width=\"770\">\n",
    "<tbody>\n",
    "<tr>\n",
    "<td width=\"107\"><strong>Dataset</strong></td>\n",
    "<td width=\"103\"><strong>Tipo dos dados</strong></td>\n",
    "<td width=\"171\"><strong>Tarefa padrão</strong></td>\n",
    "<td width=\"193\"><strong>Variável target</strong></td>\n",
    "<td width=\"102\"><strong>Nº de instâncias</strong></td>\n",
    "<td width=\"94\"><strong>Nº de atributos</strong></td>\n",
    "</tr>\n",
    "<tr>\n",
    "<td>anomaly</td>\n",
    "<td>Multivariate</td>\n",
    "<td>Anomaly Detection</td>\n",
    "<td>None</td>\n",
    "<td>1000</td>\n",
    "<td>10</td>\n",
    "</tr>\n",
    "<tr>\n",
    "<td>france</td>\n",
    "<td>Multivariate</td>\n",
    "<td>Association Rule Mining</td>\n",
    "<td>InvoiceNo, Description</td>\n",
    "<td>8557</td>\n",
    "<td>8</td>\n",
    "</tr>\n",
    "<tr>\n",
    "<td>germany</td>\n",
    "<td>Multivariate</td>\n",
    "<td>Association Rule Mining</td>\n",
    "<td>InvoiceNo, Description</td>\n",
    "<td>9495</td>\n",
    "<td>8</td>\n",
    "</tr>\n",
    "<tr>\n",
    "<td>bank</td>\n",
    "<td>Multivariate</td>\n",
    "<td>Classification (Binary)</td>\n",
    "<td>deposit</td>\n",
    "<td>45211</td>\n",
    "<td>17</td>\n",
    "</tr>\n",
    "<tr>\n",
    "<td>blood</td>\n",
    "<td>Multivariate</td>\n",
    "<td>Classification (Binary)</td>\n",
    "<td>Class</td>\n",
    "<td>748</td>\n",
    "<td>5</td>\n",
    "</tr>\n",
    "<tr>\n",
    "<td>cancer</td>\n",
    "<td>Multivariate</td>\n",
    "<td>Classification (Binary)</td>\n",
    "<td>Class</td>\n",
    "<td>683</td>\n",
    "<td>10</td>\n",
    "</tr>\n",
    "<tr>\n",
    "<td>credit</td>\n",
    "<td>Multivariate</td>\n",
    "<td>Classification (Binary)</td>\n",
    "<td>default</td>\n",
    "<td>24000</td>\n",
    "<td>24</td>\n",
    "</tr>\n",
    "<tr>\n",
    "<td>diabetes</td>\n",
    "<td>Multivariate</td>\n",
    "<td>Classification (Binary)</td>\n",
    "<td>Class variable</td>\n",
    "<td>768</td>\n",
    "<td>9</td>\n",
    "</tr>\n",
    "<tr>\n",
    "<td>electrical_grid</td>\n",
    "<td>Multivariate</td>\n",
    "<td>Classification (Binary)</td>\n",
    "<td>stabf</td>\n",
    "<td>10000</td>\n",
    "<td>14</td>\n",
    "</tr>\n",
    "<tr>\n",
    "<td>employee</td>\n",
    "<td>Multivariate</td>\n",
    "<td>Classification (Binary)</td>\n",
    "<td>left</td>\n",
    "<td>14999</td>\n",
    "<td>10</td>\n",
    "</tr>\n",
    "<tr>\n",
    "<td>heart</td>\n",
    "<td>Multivariate</td>\n",
    "<td>Classification (Binary)</td>\n",
    "<td>DEATH</td>\n",
    "<td>200</td>\n",
    "<td>16</td>\n",
    "</tr>\n",
    "<tr>\n",
    "<td>heart_disease</td>\n",
    "<td>Multivariate</td>\n",
    "<td>Classification (Binary)</td>\n",
    "<td>Disease</td>\n",
    "<td>270</td>\n",
    "<td>14</td>\n",
    "</tr>\n",
    "<tr>\n",
    "<td>hepatitis</td>\n",
    "<td>Multivariate</td>\n",
    "<td>Classification (Binary)</td>\n",
    "<td>Class</td>\n",
    "<td>154</td>\n",
    "<td>32</td>\n",
    "</tr>\n",
    "<tr>\n",
    "<td>income</td>\n",
    "<td>Multivariate</td>\n",
    "<td>Classification (Binary)</td>\n",
    "<td>income &gt;50K</td>\n",
    "<td>32561</td>\n",
    "<td>14</td>\n",
    "</tr>\n",
    "<tr>\n",
    "<td>juice</td>\n",
    "<td>Multivariate</td>\n",
    "<td>Classification (Binary)</td>\n",
    "<td>Purchase</td>\n",
    "<td>1070</td>\n",
    "<td>15</td>\n",
    "</tr>\n",
    "<tr>\n",
    "<td>nba</td>\n",
    "<td>Multivariate</td>\n",
    "<td>Classification (Binary)</td>\n",
    "<td>TARGET_5Yrs</td>\n",
    "<td>1340</td>\n",
    "<td>21</td>\n",
    "</tr>\n",
    "<tr>\n",
    "<td>wine</td>\n",
    "<td>Multivariate</td>\n",
    "<td>Classification (Binary)</td>\n",
    "<td>type</td>\n",
    "<td>6498</td>\n",
    "<td>13</td>\n",
    "</tr>\n",
    "<tr>\n",
    "<td>telescope</td>\n",
    "<td>Multivariate</td>\n",
    "<td>Classification (Binary)</td>\n",
    "<td>Class</td>\n",
    "<td>19020</td>\n",
    "<td>11</td>\n",
    "</tr>\n",
    "<tr>\n",
    "<td>glass</td>\n",
    "<td>Multivariate</td>\n",
    "<td>Classification (Multiclass)</td>\n",
    "<td>Type</td>\n",
    "<td>214</td>\n",
    "<td>10</td>\n",
    "</tr>\n",
    "<tr>\n",
    "<td>iris</td>\n",
    "<td>Multivariate</td>\n",
    "<td>Classification (Multiclass)</td>\n",
    "<td>species</td>\n",
    "<td>150</td>\n",
    "<td>5</td>\n",
    "</tr>\n",
    "<tr>\n",
    "<td>poker</td>\n",
    "<td>Multivariate</td>\n",
    "<td>Classification (Multiclass)</td>\n",
    "<td>CLASS</td>\n",
    "<td>100000</td>\n",
    "<td>11</td>\n",
    "</tr>\n",
    "<tr>\n",
    "<td>questions</td>\n",
    "<td>Multivariate</td>\n",
    "<td>Classification (Multiclass)</td>\n",
    "<td>Next_Question</td>\n",
    "<td>499</td>\n",
    "<td>4</td>\n",
    "</tr>\n",
    "<tr>\n",
    "<td>satellite</td>\n",
    "<td>Multivariate</td>\n",
    "<td>Classification (Multiclass)</td>\n",
    "<td>Class</td>\n",
    "<td>6435</td>\n",
    "<td>37</td>\n",
    "</tr>\n",
    "<tr>\n",
    "<td>asia_gdp</td>\n",
    "<td>Multivariate</td>\n",
    "<td>Clustering</td>\n",
    "<td>None</td>\n",
    "<td>40</td>\n",
    "<td>11</td>\n",
    "</tr>\n",
    "<tr>\n",
    "<td>elections</td>\n",
    "<td>Multivariate</td>\n",
    "<td>Clustering</td>\n",
    "<td>None</td>\n",
    "<td>3195</td>\n",
    "<td>54</td>\n",
    "</tr>\n",
    "<tr>\n",
    "<td>facebook</td>\n",
    "<td>Multivariate</td>\n",
    "<td>Clustering</td>\n",
    "<td>None</td>\n",
    "<td>7050</td>\n",
    "<td>12</td>\n",
    "</tr>\n",
    "<tr>\n",
    "<td>ipl</td>\n",
    "<td>Multivariate</td>\n",
    "<td>Clustering</td>\n",
    "<td>None</td>\n",
    "<td>153</td>\n",
    "<td>25</td>\n",
    "</tr>\n",
    "<tr>\n",
    "<td>jewellery</td>\n",
    "<td>Multivariate</td>\n",
    "<td>Clustering</td>\n",
    "<td>None</td>\n",
    "<td>505</td>\n",
    "<td>4</td>\n",
    "</tr>\n",
    "<tr>\n",
    "<td>mice</td>\n",
    "<td>Multivariate</td>\n",
    "<td>Clustering</td>\n",
    "<td>None</td>\n",
    "<td>1080</td>\n",
    "<td>82</td>\n",
    "</tr>\n",
    "<tr>\n",
    "<td>migration</td>\n",
    "<td>Multivariate</td>\n",
    "<td>Clustering</td>\n",
    "<td>None</td>\n",
    "<td>233</td>\n",
    "<td>12</td>\n",
    "</tr>\n",
    "<tr>\n",
    "<td>perfume</td>\n",
    "<td>Multivariate</td>\n",
    "<td>Clustering</td>\n",
    "<td>None</td>\n",
    "<td>20</td>\n",
    "<td>29</td>\n",
    "</tr>\n",
    "<tr>\n",
    "<td>pokemon</td>\n",
    "<td>Multivariate</td>\n",
    "<td>Clustering</td>\n",
    "<td>None</td>\n",
    "<td>800</td>\n",
    "<td>13</td>\n",
    "</tr>\n",
    "<tr>\n",
    "<td>population</td>\n",
    "<td>Multivariate</td>\n",
    "<td>Clustering</td>\n",
    "<td>None</td>\n",
    "<td>255</td>\n",
    "<td>56</td>\n",
    "</tr>\n",
    "<tr>\n",
    "<td>public_health</td>\n",
    "<td>Multivariate</td>\n",
    "<td>Clustering</td>\n",
    "<td>None</td>\n",
    "<td>224</td>\n",
    "<td>21</td>\n",
    "</tr>\n",
    "<tr>\n",
    "<td>seeds</td>\n",
    "<td>Multivariate</td>\n",
    "<td>Clustering</td>\n",
    "<td>None</td>\n",
    "<td>210</td>\n",
    "<td>7</td>\n",
    "</tr>\n",
    "<tr>\n",
    "<td>wholesale</td>\n",
    "<td>Multivariate</td>\n",
    "<td>Clustering</td>\n",
    "<td>None</td>\n",
    "<td>440</td>\n",
    "<td>8</td>\n",
    "</tr>\n",
    "<tr>\n",
    "<td>tweets</td>\n",
    "<td>Text</td>\n",
    "<td>NLP</td>\n",
    "<td>tweet</td>\n",
    "<td>8594</td>\n",
    "<td>2</td>\n",
    "</tr>\n",
    "<tr>\n",
    "<td>amazon</td>\n",
    "<td>Text</td>\n",
    "<td>NLP / Classification</td>\n",
    "<td>reviewText</td>\n",
    "<td>20000</td>\n",
    "<td>2</td>\n",
    "</tr>\n",
    "<tr>\n",
    "<td>kiva</td>\n",
    "<td>Text</td>\n",
    "<td>NLP / Classification</td>\n",
    "<td>en</td>\n",
    "<td>6818</td>\n",
    "<td>7</td>\n",
    "</tr>\n",
    "<tr>\n",
    "<td>spx</td>\n",
    "<td>Text</td>\n",
    "<td>NLP / Regression</td>\n",
    "<td>text</td>\n",
    "<td>874</td>\n",
    "<td>4</td>\n",
    "</tr>\n",
    "<tr>\n",
    "<td>wikipedia</td>\n",
    "<td>Text</td>\n",
    "<td>NLP / Classification</td>\n",
    "<td>Text</td>\n",
    "<td>500</td>\n",
    "<td>3</td>\n",
    "</tr>\n",
    "<tr>\n",
    "<td>automobile</td>\n",
    "<td>Multivariate</td>\n",
    "<td>Regression</td>\n",
    "<td>price</td>\n",
    "<td>202</td>\n",
    "<td>26</td>\n",
    "</tr>\n",
    "<tr>\n",
    "<td>bike</td>\n",
    "<td>Multivariate</td>\n",
    "<td>Regression</td>\n",
    "<td>cnt</td>\n",
    "<td>17379</td>\n",
    "<td>15</td>\n",
    "</tr>\n",
    "<tr>\n",
    "<td>boston</td>\n",
    "<td>Multivariate</td>\n",
    "<td>Regression</td>\n",
    "<td>medv</td>\n",
    "<td>506</td>\n",
    "<td>14</td>\n",
    "</tr>\n",
    "<tr>\n",
    "<td>concrete</td>\n",
    "<td>Multivariate</td>\n",
    "<td>Regression</td>\n",
    "<td>strength</td>\n",
    "<td>1030</td>\n",
    "<td>9</td>\n",
    "</tr>\n",
    "<tr>\n",
    "<td>diamond</td>\n",
    "<td>Multivariate</td>\n",
    "<td>Regression</td>\n",
    "<td>Price</td>\n",
    "<td>6000</td>\n",
    "<td>8</td>\n",
    "</tr>\n",
    "<tr>\n",
    "<td>energy</td>\n",
    "<td>Multivariate</td>\n",
    "<td>Regression</td>\n",
    "<td>Heating Load / Cooling Load</td>\n",
    "<td>768</td>\n",
    "<td>10</td>\n",
    "</tr>\n",
    "<tr>\n",
    "<td>forest</td>\n",
    "<td>Multivariate</td>\n",
    "<td>Regression</td>\n",
    "<td>area</td>\n",
    "<td>517</td>\n",
    "<td>13</td>\n",
    "</tr>\n",
    "<tr>\n",
    "<td>gold</td>\n",
    "<td>Multivariate</td>\n",
    "<td>Regression</td>\n",
    "<td>Gold_T+22</td>\n",
    "<td>2558</td>\n",
    "<td>121</td>\n",
    "</tr>\n",
    "<tr>\n",
    "<td>house</td>\n",
    "<td>Multivariate</td>\n",
    "<td>Regression</td>\n",
    "<td>SalePrice</td>\n",
    "<td>1461</td>\n",
    "<td>81</td>\n",
    "</tr>\n",
    "<tr>\n",
    "<td>insurance</td>\n",
    "<td>Multivariate</td>\n",
    "<td>Regression</td>\n",
    "<td>charges</td>\n",
    "<td>1338</td>\n",
    "<td>7</td>\n",
    "</tr>\n",
    "<tr>\n",
    "<td>parkinsons</td>\n",
    "<td>Multivariate</td>\n",
    "<td>Regression</td>\n",
    "<td>PPE</td>\n",
    "<td>5875</td>\n",
    "<td>22</td>\n",
    "</tr>\n",
    "<tr>\n",
    "<td>traffic</td>\n",
    "<td>Multivariate</td>\n",
    "<td>Regression</td>\n",
    "<td>traffic_volume</td>\n",
    "<td>48204</td>\n",
    "<td>8</td>\n",
    "</tr>\n",
    "</tbody>\n",
    "</table>"
   ]
  },
  {
   "cell_type": "markdown",
   "metadata": {},
   "source": [
    "#### 4.2.1 Lendo um dataset com Pandas\n",
    "\n",
    "Vamos ler o [Star Dataset](https://www.kaggle.com/vinesmsuic/star-categorization-giants-and-dwarfs), disponível no Kaggle. No qual nossa tarefa será categorizar as instâncias entre estrelas anãs e gigantes. O dataset pode ser baixado no kaggle ou acessado no repositório dessa aula."
   ]
  },
  {
   "cell_type": "code",
   "execution_count": null,
   "metadata": {},
   "outputs": [],
   "source": [
    "data_url = \"https://raw.githubusercontent.com/ItamarRocha/AI-Introduction/main/Machine%20Learning/data/Star3642_balanced.csv?token=AMZBEI5WN5MR65336J2XW3LAYU5QW\""
   ]
  },
  {
   "cell_type": "code",
   "execution_count": null,
   "metadata": {},
   "outputs": [],
   "source": [
    "import pandas as pd\n",
    "\n",
    "data_star = pd.read_csv(data_url)\n",
    "print(\"Tamanho do dataset : \", data_star.shape)"
   ]
  },
  {
   "cell_type": "markdown",
   "metadata": {},
   "source": [
    "#### 4.2.2 Lendo um dataset padrão do Pycaret\n",
    "\n",
    "Nesse ponto vamos ler um dataset de brinquedo presente no repositório do próprio PyCaret, **satellite**."
   ]
  },
  {
   "cell_type": "code",
   "execution_count": null,
   "metadata": {
    "scrolled": true
   },
   "outputs": [],
   "source": [
    "from pycaret.datasets import get_data\n",
    "\n",
    "data_satellite = get_data(\"satellite\")\n",
    "print(\"Tamanho do dataset : \", data_satellite.shape)"
   ]
  },
  {
   "cell_type": "markdown",
   "metadata": {},
   "source": [
    "Nesse dataset, nosso objetivo é performar **uma classificação multiclasse na variável Class**."
   ]
  },
  {
   "cell_type": "markdown",
   "metadata": {},
   "source": [
    "## 4. Analisando os dados\n",
    "\n",
    "Nesse notebook utilizaremos o star dataset que foi lido com a biblioteca pandas. Vamos fazer uma breve analise nele."
   ]
  },
  {
   "cell_type": "code",
   "execution_count": null,
   "metadata": {},
   "outputs": [],
   "source": [
    "data_star.head()"
   ]
  },
  {
   "cell_type": "markdown",
   "metadata": {},
   "source": [
    "Sempre que formos fazer uma previsão precisamos entender nossos dados, o que cada um representa e o que estamos tentando prever."
   ]
  },
  {
   "cell_type": "markdown",
   "metadata": {},
   "source": [
    "### 4.1 Significado de cada variável"
   ]
  },
  {
   "cell_type": "markdown",
   "metadata": {},
   "source": [
    "<table style=\"height: 199px; width: 532px; background-color: #fdfdfa; border-color: #f9f9f9;\">\n",
    "    <tbody>\n",
    "        <tr style=\"height: 6.30557px;\">\n",
    "        <td style=\"width: 216px; height: 6.30557px;\"><strong>Variável</strong></td>\n",
    "        <td style=\"width: 276px; height: 6.30557px;\"><strong>Descrição</strong></td>\n",
    "        </tr>\n",
    "        <tr style=\"height: 22px;\">\n",
    "        <td style=\"width: 216px; height: 22px;\">Vmag</td>\n",
    "        <td style=\"width: 276px; height: 22px;\">Visual Apparent Magnitude of the Star</td>\n",
    "        </tr>\n",
    "        <tr style=\"height: 22px;\">\n",
    "        <td style=\"width: 216px; height: 22px;\">Plx</td>\n",
    "        <td style=\"width: 276px; height: 22px;\">Distance Between the Star and the Earth</td>\n",
    "        </tr>\n",
    "        <tr style=\"height: 22px;\">\n",
    "        <td style=\"width: 216px; height: 22px;\">e_Plx</td>\n",
    "        <td style=\"width: 276px; height: 22px;\">Standard Error of Plx (Drop the Row if you find the e_Plx is too high!)</td>\n",
    "        </tr>\n",
    "        <tr style=\"height: 22px;\">\n",
    "        <td style=\"width: 216px; height: 22px;\">B-V</td>\n",
    "        <td style=\"width: 276px; height: 22px;\">B-V color index. (A hot star has a B-V color index close to 0 or negative, while a cool star has a B-V color index close to 2.0.</td>\n",
    "        </tr>\n",
    "        <tr style=\"height: 22px;\">\n",
    "        <td style=\"width: 216px; height: 22px;\">SpType</td>\n",
    "        <td style=\"width: 276px; height: 22px;\">Spectral type</td>\n",
    "        </tr>\n",
    "        <tr style=\"height: 22px;\">\n",
    "        <td style=\"width: 216px; height: 22px;\">Amag</td>\n",
    "        <td style=\"width: 276px; height: 22px;\">Absolute Magnitude of the Star</td>\n",
    "        </tr>\n",
    "        <tr style=\"height: 22px;\">\n",
    "        <td style=\"width: 216px; height: 22px;\">TargetClass</td>\n",
    "        <td style=\"width: 276px; height: 22px;\">Whether the Star is Dwarf (0) or Giant (1)</td>\n",
    "        </tr>\n",
    "    </tbody>\n",
    "</table>"
   ]
  },
  {
   "cell_type": "markdown",
   "metadata": {},
   "source": [
    "### 4.2 Tipo de cada variável"
   ]
  },
  {
   "cell_type": "code",
   "execution_count": null,
   "metadata": {},
   "outputs": [],
   "source": [
    "data_star.dtypes"
   ]
  },
  {
   "cell_type": "markdown",
   "metadata": {},
   "source": [
    "### 4.3 Outras análises"
   ]
  },
  {
   "cell_type": "code",
   "execution_count": null,
   "metadata": {},
   "outputs": [],
   "source": [
    "data_star.info()"
   ]
  },
  {
   "cell_type": "code",
   "execution_count": null,
   "metadata": {},
   "outputs": [],
   "source": [
    "data_star.describe()"
   ]
  },
  {
   "cell_type": "markdown",
   "metadata": {},
   "source": [
    "## 5. Organizando o ambiente\n",
    "Antes de executarmos qualquer algoritmo, temos que importar os módulos necessários para não termos nenhum problem."
   ]
  },
  {
   "cell_type": "markdown",
   "metadata": {},
   "source": [
    "### 5.1 Importando os Módulos\n",
    "O PyCaret é dividido basicamente em 6 módulos que separam os diferentes modelos que podem ser utilizados para determinados problemas.\n",
    "\n",
    "<table style=\"height: 199px; width: 532px; background-color: #fdfdfa; border-color: #f9f9f9;\">\n",
    "    <tbody>\n",
    "        <tr style=\"height: 6.30557px;\">\n",
    "        <td style=\"width: 216px; height: 6.30557px;\"><strong>Módulo</strong></td>\n",
    "        <td style=\"width: 276px; height: 6.30557px;\"><strong>Como importar</strong></td>\n",
    "        </tr>\n",
    "        <tr style=\"height: 22px;\">\n",
    "        <td style=\"width: 216px; height: 22px;\"><a href=\"https://www.pycaret.org/classification\">Classificação</a></td>\n",
    "        <td style=\"width: 276px; height: 22px;\"><span style=\"color: #008000;\">from </span>pycaret.classification <span style=\"color: #008000;\">import </span>*</td>\n",
    "        </tr>\n",
    "        <tr style=\"height: 22px;\">\n",
    "        <td style=\"width: 216px; height: 22px;\"><a href=\"https://www.pycaret.org/regression\">Regressão</a></td>\n",
    "        <td style=\"width: 276px; height: 22px;\"><span style=\"color: #008000;\">from</span> pycaret.regression <span style=\"color: #008000;\">import </span>*</td>\n",
    "        </tr>\n",
    "        <tr style=\"height: 22px;\">\n",
    "        <td style=\"width: 216px; height: 22px;\"><a href=\"https://www.pycaret.org/clustering\">Clusterização</a></td>\n",
    "        <td style=\"width: 276px; height: 22px;\"><span style=\"color: #008000;\">from </span>pycaret.clustering <span style=\"color: #008000;\">import </span>*</td>\n",
    "        </tr>\n",
    "        <tr style=\"height: 22px;\">\n",
    "        <td style=\"width: 216px; height: 22px;\"><a href=\"https://www.pycaret.org/anomaly-detection\">Detecção de Anomalias</a></td>\n",
    "        <td style=\"width: 276px; height: 22px;\"><span style=\"color: #008000;\">from </span>pycaret.anomaly <span style=\"color: #008000;\">import </span>*</td>\n",
    "        </tr>\n",
    "        <tr style=\"height: 22px;\">\n",
    "        <td style=\"width: 216px; height: 22px;\"><a href=\"https://www.pycaret.org/nlp\">Processamento de Linguagem Natural</a></td>\n",
    "        <td style=\"width: 276px; height: 22px;\"><span style=\"color: #008000;\">from </span>pycaret.nlp <span style=\"color: #008000;\">import</span> *</td>\n",
    "        </tr>\n",
    "        <tr style=\"height: 22px;\">\n",
    "        <td style=\"width: 216px; height: 22px;\"><a href=\"https://www.pycaret.org/association-rule\">Association Rule Mining</a></td>\n",
    "        <td style=\"width: 276px; height: 22px;\"><span style=\"color: #008000;\">from </span>pycaret.arules <span style=\"color: #008000;\">import</span> *</td>\n",
    "        </tr>\n",
    "    </tbody>\n",
    "</table>"
   ]
  },
  {
   "cell_type": "markdown",
   "metadata": {},
   "source": [
    "Exemplo:\n",
    "\n",
    "```python\n",
    "from pycaret.classification import *\n",
    "```"
   ]
  },
  {
   "cell_type": "code",
   "execution_count": null,
   "metadata": {},
   "outputs": [],
   "source": [
    "from pycaret.classification import *"
   ]
  },
  {
   "cell_type": "markdown",
   "metadata": {},
   "source": [
    "### 5.2 Construindo o ambiente"
   ]
  },
  {
   "cell_type": "markdown",
   "metadata": {},
   "source": [
    "Após a importação das funções presentes no módulo desejado, deve-se fazer o setup do ambiente (antes de rodar qualquer função que não a de ler os dados). Vamos executar um pequeno exemplo com o que vimos até então:"
   ]
  },
  {
   "cell_type": "markdown",
   "metadata": {},
   "source": [
    "#### 5.2.1 Olhando nossos dados"
   ]
  },
  {
   "cell_type": "code",
   "execution_count": null,
   "metadata": {},
   "outputs": [],
   "source": [
    "# Relembrando as colunas do nosso dataset\n",
    "data_star.columns"
   ]
  },
  {
   "cell_type": "code",
   "execution_count": null,
   "metadata": {
    "scrolled": true
   },
   "outputs": [],
   "source": [
    "data_star.head()"
   ]
  },
  {
   "cell_type": "markdown",
   "metadata": {},
   "source": [
    "Como podemos ver, temos 7 colunas e a variável que queremos prever é a **TargetClass**"
   ]
  },
  {
   "cell_type": "code",
   "execution_count": null,
   "metadata": {},
   "outputs": [],
   "source": [
    "data_star.TargetClass.value_counts()"
   ]
  },
  {
   "cell_type": "markdown",
   "metadata": {},
   "source": [
    "Nosso dataset já está balanceado e tratado e, portanto, não temos que nos preocupar tanto com essa etapa nesse tutorial."
   ]
  },
  {
   "cell_type": "markdown",
   "metadata": {},
   "source": [
    "\n",
    "![](https://raw.githubusercontent.com/ItamarRocha/AI-Introduction/main/Machine%20Learning/images/dwight.gif?token=AMZBEI24W2A2G74MN3RTST3AYU5X2)\n",
    "\n",
    "**ISSO NÃO VAI ACONTECER NUNCA NO MUNDO REAL, PREPROCESSAMENTO DE DADOS É UMA PARTE ESSENCIAL EM QUALQUER TRABALHO DE ANÁLISE OU PREVISÃO DE DADOS**"
   ]
  },
  {
   "cell_type": "markdown",
   "metadata": {},
   "source": [
    "#### 5.2.2 Função setup\n",
    "\n",
    "A função setup, como dito anteriormente, é essencial para execução dos modelos. Como parâmetros obrigatórios, ela tem **data**, que corresponde ao dataset utilizado, e **target**, que corresponde a variável a ser prevista. Afora esses, ela também possui diversos parâmetros opcionais (você pode ler mais sobre na [**documentação**](https://pycaret.readthedocs.io/en/latest/api/classification.html))"
   ]
  },
  {
   "cell_type": "markdown",
   "metadata": {},
   "source": [
    "* Ao rodarmos a célula abaixo, a função setup identificará os tipos de cada variável e nos retornará um prompt para darmos enter caso esteja correto ou digitarmos **quit**, caso queiramos fazer alguma modificação, se eventualmente houver alguma incoerência com os dados. Para modificar alguma coluna que foi detectada incorretamente, devemos especificar-la nos parâmetros. Se tudo estiver ok, ele printará uma descrição sobre o dataset e o preprocessamento será feito."
   ]
  },
  {
   "cell_type": "code",
   "execution_count": null,
   "metadata": {},
   "outputs": [],
   "source": [
    "classificador = setup(data=data_star, target=\"TargetClass\", train_size=0.8)"
   ]
  },
  {
   "cell_type": "markdown",
   "metadata": {},
   "source": [
    "* A função setup também faz a limpeza dos dados. Por padrão, a média é usada para imputação dos dados numéricos (preenchimento dos dados faltantes) e a moda para dados categóricos. Essas configurações podem ser alteradas nos parâmetros da função."
   ]
  },
  {
   "cell_type": "markdown",
   "metadata": {},
   "source": [
    "* Por fim, a função setup também faz a divisão do dataset em treino e teste usando estratificação para exemplos categóricos como o caso acima. O valor padrão de split é 70 treino - 30 teste. Caso deseje mudar é necessário apenas passar o parâmetro adequado na função setup, como fizemos anteriormente."
   ]
  },
  {
   "cell_type": "markdown",
   "metadata": {},
   "source": [
    "## 6. Comparando modelos"
   ]
  },
  {
   "cell_type": "markdown",
   "metadata": {},
   "source": [
    "Nesta secção já vamos começar a rodar nossos **algoritmos de Machine Learning**. Como foi visto, a estrutura do PyCaret é bem simples e, com quase 5 linhas de código, você verá que seremos capazes de rodar 16 algoritmos. :P\n",
    "\n",
    "Vamos agora ver um pouco como fazer isso. Na função **compare_models()**, todos os algoritmos que podem ser utilizados para resolver o seu problema serão rodados e a função disponibilizará uma tabela com os resultados das métricas e o tempo que levou em segundos. A partir disso o sistema vai fazer o output do modelo que teve o melhor desempenho."
   ]
  },
  {
   "cell_type": "code",
   "execution_count": null,
   "metadata": {
    "scrolled": false
   },
   "outputs": [],
   "source": [
    "best_model = compare_models(fold=10, round=3, sort=\"Accuracy\")"
   ]
  },
  {
   "cell_type": "code",
   "execution_count": null,
   "metadata": {},
   "outputs": [],
   "source": [
    "best_model"
   ]
  },
  {
   "cell_type": "markdown",
   "metadata": {},
   "source": [
    "É importante ressaltar que você pode mudar a métrica de importância (no parâmetro **sort**). Assim, o modelo retornará o modelo com a melhor peformance nessa métrica. Também é possível retornar mais de um modelo através do parâmetro **n_select**, retirar modelos da lista padrão com **blacklist** e comparar apenas os modelos que você tem interesse com **whitelist**. Além disso, se tempo for uma variável preciosa no trabalho, pode-se setar o parâmetro **turbo=True** para que o compare_models() não execute os algoritmos que demorariam mais tempo."
   ]
  },
  {
   "cell_type": "markdown",
   "metadata": {},
   "source": [
    "## 7. Criando o modelo"
   ]
  },
  {
   "cell_type": "markdown",
   "metadata": {},
   "source": [
    "Vamos criar nosso modelo com a função **create_model()**. Antes disso, vamos observar os modelos que temos disponível através da função **models()**."
   ]
  },
  {
   "cell_type": "code",
   "execution_count": null,
   "metadata": {},
   "outputs": [],
   "source": [
    "models()"
   ]
  },
  {
   "cell_type": "code",
   "execution_count": null,
   "metadata": {
    "scrolled": true
   },
   "outputs": [],
   "source": [
    "rc = create_model(\"ridge\")"
   ]
  },
  {
   "cell_type": "code",
   "execution_count": null,
   "metadata": {},
   "outputs": [],
   "source": [
    "rf = create_model(\"rf\")"
   ]
  },
  {
   "cell_type": "markdown",
   "metadata": {},
   "source": [
    "![](https://raw.githubusercontent.com/ItamarRocha/AI-Introduction/main/Machine%20Learning/images/done.gif?token=AMZBEI3Z6P65XO2BZZMR6ADAYU52C)\n",
    "\n",
    "Voilá, temos nossos modelos criados :D!!!\n",
    "\n",
    "Mas será que ele já está bom o suficiente? Vamos dar uma olhada em mais uma etapa que talvez possa nos ajudar a melhorar a performance do nosso modelo."
   ]
  },
  {
   "cell_type": "markdown",
   "metadata": {},
   "source": [
    "## 8. Tunando o modelo"
   ]
  },
  {
   "cell_type": "markdown",
   "metadata": {},
   "source": [
    "Essa etapa é responsável por melhorar nosso modelo escolhido. Aqui passamos parâmetros como:\n",
    "* Qual métrica queremos melhorar\n",
    "* Quais parâmetros queremos mexer para melhorar essa métrica\n",
    "* Número de folds\n",
    "\n",
    "O PyCaret tem por padrão um grid de parâmetros que ele utiliza para melhorar cada algoritmo. Caso queira fazer o seu próprio, é só elaborar um pequeno dicionário com os parâmetros a serem testados.\n",
    "Ex:\n",
    "```python\n",
    "params = {\"n_estimators\": np.random.randint(1, 300, 20),\n",
    "          \"gamma\": [0.1, 0.001, 0.0001],\n",
    "          \"max_depth\": [2,3,4,5,6,10,12]\n",
    "         }\n",
    "```\n",
    "É claro que para isso é necessário um estudo maior dos hyperparâmetros do algoritmo utilizado."
   ]
  },
  {
   "cell_type": "code",
   "execution_count": null,
   "metadata": {},
   "outputs": [],
   "source": [
    "params = {\n",
    "        \"n_estimators\": np.random.randint(80,300,10)\n",
    "        }"
   ]
  },
  {
   "cell_type": "code",
   "execution_count": null,
   "metadata": {},
   "outputs": [],
   "source": [
    "params"
   ]
  },
  {
   "cell_type": "code",
   "execution_count": null,
   "metadata": {
    "scrolled": true
   },
   "outputs": [],
   "source": [
    "tuned_rf = tune_model(rf, fold=5, optimize=\"Accuracy\", custom_grid=params) #vamos usar o default"
   ]
  },
  {
   "cell_type": "code",
   "execution_count": null,
   "metadata": {},
   "outputs": [],
   "source": [
    "tuned_rf"
   ]
  },
  {
   "cell_type": "markdown",
   "metadata": {},
   "source": [
    "Tivemos um aumento de performance? Caso não, teríamos que mexer um pouco mais em nosso grid de parâmetros para melhorar."
   ]
  },
  {
   "cell_type": "markdown",
   "metadata": {},
   "source": [
    "## 9. Fazendo os plots do nosso modelo"
   ]
  },
  {
   "cell_type": "markdown",
   "metadata": {},
   "source": [
    "Com o **plot_model()** podemos plotar os mais diversos gráficos para analisar o desempenho de nosso modelo. A seguir estão mostradas todas as possibilidades.\n",
    "\n",
    "<table style=\"height: 100px; width: 422px; border-color: #f9f9f9; background-color: #f9f9f9;\" cellspacing=\"-2\" cellpadding=\"-3\">\n",
    "    <tbody>\n",
    "        <tr>\n",
    "        <td style=\"width: 149px; text-align: center;\"><strong>Gráfico</strong></td>\n",
    "        <td style=\"width: 226px; text-align: center;\"><strong>Nome</strong></td>\n",
    "        </tr>\n",
    "        <tr>\n",
    "        <td style=\"width: 149px; text-align: center;\">‘auc’</td>\n",
    "        <td style=\"width: 226px; text-align: center;\">Area Under the Curve</td>\n",
    "        </tr>\n",
    "        <tr>\n",
    "        <td style=\"width: 149px; text-align: center;\">‘threshold’</td>\n",
    "        <td style=\"width: 226px; text-align: center;\">Discrimination Threshold</td>\n",
    "        </tr>\n",
    "        <tr>\n",
    "        <td style=\"width: 149px; text-align: center;\">‘pr’</td>\n",
    "        <td style=\"width: 226px; text-align: center;\">Precision Recall Curve</td>\n",
    "        </tr>\n",
    "        <tr>\n",
    "        <td style=\"width: 149px; text-align: center;\">‘confusion_matrix’</td>\n",
    "        <td style=\"width: 226px; text-align: center;\">Confusion Matrix</td>\n",
    "        </tr>\n",
    "        <tr>\n",
    "        <td style=\"width: 149px; text-align: center;\">‘error’</td>\n",
    "        <td style=\"width: 226px; text-align: center;\">Class Prediction Error</td>\n",
    "        </tr>\n",
    "        <tr>\n",
    "        <td style=\"width: 149px; text-align: center;\">‘class_report’</td>\n",
    "        <td style=\"width: 226px; text-align: center;\">Classification Report</td>\n",
    "        </tr>\n",
    "        <tr>\n",
    "        <td style=\"width: 149px; text-align: center;\">‘boundary’</td>\n",
    "        <td style=\"width: 226px; text-align: center;\">Decision Boundary</td>\n",
    "        </tr>\n",
    "        <tr>\n",
    "        <td style=\"width: 149px; text-align: center;\">‘rfe’</td>\n",
    "        <td style=\"width: 226px; text-align: center;\">Recursive Feature Selection</td>\n",
    "        </tr>\n",
    "        <tr>\n",
    "        <td style=\"width: 149px; text-align: center;\">‘learning’</td>\n",
    "        <td style=\"width: 226px; text-align: center;\">Learning Curve</td>\n",
    "        </tr>\n",
    "        <tr>\n",
    "        <td style=\"width: 149px; text-align: center;\">‘manifold’</td>\n",
    "        <td style=\"width: 226px; text-align: center;\">Manifold Learning</td>\n",
    "        </tr>\n",
    "        <tr>\n",
    "        <td style=\"width: 149px; text-align: center;\">‘calibration’</td>\n",
    "        <td style=\"width: 226px; text-align: center;\">Calibration Curve</td>\n",
    "        </tr>\n",
    "        <tr>\n",
    "        <td style=\"width: 149px; text-align: center;\">‘vc’</td>\n",
    "        <td style=\"width: 226px; text-align: center;\">Validation Curve</td>\n",
    "        </tr>\n",
    "        <tr>\n",
    "        <td style=\"width: 149px; text-align: center;\">‘dimension’</td>\n",
    "        <td style=\"width: 226px; text-align: center;\">Dimension Learning</td>\n",
    "        </tr>\n",
    "        <tr>\n",
    "        <td style=\"width: 149px; text-align: center;\">‘feature’</td>\n",
    "        <td style=\"width: 226px; text-align: center;\">Feature Importance</td>\n",
    "        </tr>\n",
    "        <tr>\n",
    "        <td style=\"width: 149px; text-align: center;\">‘parameter’</td>\n",
    "        <td style=\"width: 226px; text-align: center;\">Model Hyperparameter</td>\n",
    "        </tr>\n",
    "    </tbody>\n",
    "</table>"
   ]
  },
  {
   "cell_type": "code",
   "execution_count": null,
   "metadata": {
    "scrolled": false
   },
   "outputs": [],
   "source": [
    "plot_model(rc, plot=\"confusion_matrix\")"
   ]
  },
  {
   "cell_type": "code",
   "execution_count": null,
   "metadata": {},
   "outputs": [],
   "source": [
    "plot_model(rf, plot=\"learning\")"
   ]
  },
  {
   "cell_type": "markdown",
   "metadata": {},
   "source": [
    "Embora seja bem fácil plotar algum gráfico específico com o PyCaret, é possível plotar todos os gráficos de uma vez e apenas observar de um por um através da interface produzida pelo PyCaret com a função **evaluate_model()**."
   ]
  },
  {
   "cell_type": "code",
   "execution_count": null,
   "metadata": {
    "scrolled": false
   },
   "outputs": [],
   "source": [
    "evaluate_model(tuned_rf)"
   ]
  },
  {
   "cell_type": "markdown",
   "metadata": {},
   "source": [
    "## 10. Acessando as variáveis"
   ]
  },
  {
   "cell_type": "markdown",
   "metadata": {},
   "source": [
    "O PyCaret, como pudemos observar até então, é a verdadeira definição de caixa preta haha. Contudo, podemos ter acesso às variáveis com a função **get_config(Variable)**. Essa função retornará um objeto diferente de acordo com a string que você passar. A seguir são os possíveis objetos que podemos ter acesso:\n",
    "\n",
    "<ul>\n",
    "    <li>X: Transformed dataset (X)</li>\n",
    "    <li>y: Transformed dataset (y)&nbsp;&nbsp;</li>\n",
    "    <li>X_train: Transformed train dataset (X)</li>\n",
    "    <li>X_test: Transformed test/holdout dataset (X)</li>\n",
    "    <li>y_train: Transformed train dataset (y)</li>\n",
    "    <li>y_test: Transformed test/holdout dataset (y)</li>\n",
    "    <li>seed: random state set through session_id</li>\n",
    "    <li>prep_pipe: Transformation pipeline configured through setup</li>\n",
    "    <li>folds_shuffle_param: shuffle parameter used in Kfolds</li>\n",
    "    <li>n_jobs_param: n_jobs parameter used in model training</li>\n",
    "    <li>html_param: html_param configured through setup</li>\n",
    "    <li>create_model_container: results grid storage container</li>\n",
    "    <li>master_model_container: model storage container</li>\n",
    "    <li>display_container: results display container</li>\n",
    "    <li>exp_name_log: Name of experiment set through setup</li>\n",
    "    <li>logging_param: log_experiment param set through setup</li>\n",
    "    <li>log_plots_param: log_plots param set through setup</li>\n",
    "    <li>USI: Unique session ID parameter set through setup</li>\n",
    "    <li>fix_imbalance_param: fix_imbalance param set through setup</li>\n",
    "    <li>fix_imbalance_method_param: fix_imbalance_method param set through setup</li>\n",
    "</ul>"
   ]
  },
  {
   "cell_type": "markdown",
   "metadata": {},
   "source": [
    "**Ex:**"
   ]
  },
  {
   "cell_type": "code",
   "execution_count": null,
   "metadata": {},
   "outputs": [],
   "source": [
    "X_test = get_config(\"X_test\")\n",
    "X_test.head()"
   ]
  },
  {
   "cell_type": "markdown",
   "metadata": {},
   "source": [
    "## 11. Prevendo com nosso modelo"
   ]
  },
  {
   "cell_type": "code",
   "execution_count": null,
   "metadata": {
    "scrolled": false
   },
   "outputs": [],
   "source": [
    "predict_model(rc)"
   ]
  },
  {
   "cell_type": "markdown",
   "metadata": {},
   "source": [
    "Como vemos acima, a função predict_model nos retorna as métricas correspondentes à previsão, além de retornar junto ao DataFrame original uma coluna **Label**, que equivale ao que o modelo preveu."
   ]
  },
  {
   "cell_type": "markdown",
   "metadata": {},
   "source": [
    "Também é possível prever um novo conjunto passando como parâmetro da seguinte forma:\n",
    "```python\n",
    "predict_model(model, data = novos_dados)\n",
    "```"
   ]
  },
  {
   "cell_type": "markdown",
   "metadata": {},
   "source": [
    "## 12. Finalizando o modelo"
   ]
  },
  {
   "cell_type": "markdown",
   "metadata": {},
   "source": [
    "Por finalizar o modelo, temos como objetivo juntar os dados de teste aos de treinamento e fazer um modelo baseado em todos os dados para ir para produção."
   ]
  },
  {
   "cell_type": "code",
   "execution_count": null,
   "metadata": {},
   "outputs": [],
   "source": [
    "finalize_model(rc)"
   ]
  },
  {
   "cell_type": "markdown",
   "metadata": {},
   "source": [
    "## 13. Salvando e carregando o modelo"
   ]
  },
  {
   "cell_type": "code",
   "execution_count": null,
   "metadata": {},
   "outputs": [],
   "source": [
    "save_model(rc, \"rc_model\")"
   ]
  },
  {
   "cell_type": "markdown",
   "metadata": {},
   "source": [
    "A função **save_model()** salva não apenas o modelo, mas o pipeline de preprocessamento que foi construído na função **setup()**"
   ]
  },
  {
   "cell_type": "code",
   "execution_count": null,
   "metadata": {},
   "outputs": [],
   "source": [
    "model = load_model(\"rc_model\")"
   ]
  },
  {
   "cell_type": "markdown",
   "metadata": {},
   "source": [
    "## 14. Prevendo um único evento"
   ]
  },
  {
   "cell_type": "code",
   "execution_count": null,
   "metadata": {},
   "outputs": [],
   "source": [
    "data_star.loc[0]"
   ]
  },
  {
   "cell_type": "code",
   "execution_count": null,
   "metadata": {},
   "outputs": [],
   "source": [
    "test_on = pd.DataFrame({\"Vmag\":{\"0\":5.99},\n",
    "                        \"Plx\":{\"0\":13.73},\n",
    "                        \"e_Plx\":{\"0\":0.58},\n",
    "                        \"B-V\":{\"0\":1.318},\n",
    "                        \"SpType\":{\"0\":\"K5III\"},\n",
    "                        \"Amag\":{\"0\":16.678352}})\n",
    "\n",
    "test_on"
   ]
  },
  {
   "cell_type": "code",
   "execution_count": null,
   "metadata": {},
   "outputs": [],
   "source": [
    "model.predict(test_on) #Dwarf 0 Giant 1"
   ]
  },
  {
   "cell_type": "markdown",
   "metadata": {},
   "source": [
    "![](https://raw.githubusercontent.com/ItamarRocha/AI-Introduction/main/Machine%20Learning/images/missioncomplete.gif?token=AMZBEIZ3R5RTSKSU2JRHULDAYU6XW)\n"
   ]
  },
  {
   "cell_type": "markdown",
   "metadata": {},
   "source": [
    "## 15. Tarefa\n",
    "\n",
    "Gostou do que viu hoje? Como tarefa tenta fazer algo parecido usando o outro dataset que a gente abordou aqui :). Praticar é a melhor forma de fixar!"
   ]
  },
  {
   "cell_type": "markdown",
   "metadata": {},
   "source": [
    "**Referências**:\n",
    "* https://pycaret.org/classification/\n",
    "* https://pycaret.org/preprocessing/\n",
    "* https://pycaret.readthedocs.io/en/latest/index.html\n",
    "* https://pycaret.org/compare-models/\n",
    "* https://github.com/pycaret/pycaret/tree/master/tutorials"
   ]
  }
 ],
 "metadata": {
  "kernelspec": {
   "display_name": "Python 3",
   "language": "python",
   "name": "python3"
  },
  "language_info": {
   "codemirror_mode": {
    "name": "ipython",
    "version": 3
   },
   "file_extension": ".py",
   "mimetype": "text/x-python",
   "name": "python",
   "nbconvert_exporter": "python",
   "pygments_lexer": "ipython3",
   "version": "3.7.5"
  }
 },
 "nbformat": 4,
 "nbformat_minor": 2
}
