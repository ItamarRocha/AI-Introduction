{
 "cells": [
  {
   "cell_type": "markdown",
   "metadata": {},
   "source": [
    "# <p style=\"color:darkblue\">Introdução ao Aprendizado Profundo</p>\n",
    "\n",
    "<hr>\n",
    "\n",
    "\n",
    "\n",
    "\n",
    "* Neste Jupyter-Notebook farei uma introdução ao Aprendizado Profundo (Deep Learning), que é um subset do que abordaremos previamente (Machine Learning). Nossa introdução será feita com o framework de Deep Learning chamado Pytorch (Facebook) que é atualmente um dos mais usados junto com o Tensorflow (Google). Os dois são de extrema importância atualmente e são os mais usados majoritariamente nas grandes conferências, com o Pytorch tendo uma crescente nos últimos anos. Escolhemos Pytorch para o intuito dessa atividade, pois **eu** estou estudando pytorch, mas o tensorflow também executaria com quase a mesma eficiência e complexidade.\n",
    "\n",
    "<a href=\"https://colab.research.google.com/github/ItamarRocha/AI-Introduction/blob/main/Machine%20Learning/Introdu%C3%A7%C3%A3o%20ao%20Aprendizado%20de%20%20M%C3%A1quina.ipynb\" target=\"_parent\"><img src=\"https://colab.research.google.com/assets/colab-badge.svg\" alt=\"Open In Colab\"/></a>"
   ]
  },
  {
   "cell_type": "markdown",
   "metadata": {},
   "source": [
    "## 1. O que é Pytorch?\n",
    "\n",
    "<p align=\"center\">\n",
    "   <img src=\"images/pytorch.png\" width=\"500px\">\n",
    "</p>\n",
    "\n",
    "Pytorch é uma biblioteca otimizada de cálculo com tensores para Deep Learning. Ou seja, é usada sobretudo para o treinamento de redes neurais."
   ]
  },
  {
   "cell_type": "markdown",
   "metadata": {},
   "source": [
    "## 2. Setting up\n",
    "\n",
    "botar todas as bibs pra instalar"
   ]
  },
  {
   "cell_type": "markdown",
   "metadata": {},
   "source": [
    "## 3. O que é uma rede neural?\n",
    "\n",
    "falar sobre redes e tensores\n"
   ]
  },
  {
   "cell_type": "markdown",
   "metadata": {},
   "source": [
    "## 4. Problema abordado\n",
    "\n",
    "falar sobre o problema e gerar os dados"
   ]
  },
  {
   "cell_type": "code",
   "execution_count": null,
   "metadata": {},
   "outputs": [],
   "source": [
    "from data_generator import get_data\n",
    "import numpy as np\n",
    "import matplotlib.pyplot as plt"
   ]
  },
  {
   "cell_type": "code",
   "execution_count": null,
   "metadata": {},
   "outputs": [],
   "source": [
    "train, test = get_data(2000)"
   ]
  },
  {
   "cell_type": "code",
   "execution_count": null,
   "metadata": {},
   "outputs": [],
   "source": [
    "len(train), len(test)"
   ]
  },
  {
   "cell_type": "code",
   "execution_count": null,
   "metadata": {},
   "outputs": [],
   "source": [
    "train"
   ]
  },
  {
   "cell_type": "code",
   "execution_count": null,
   "metadata": {},
   "outputs": [],
   "source": [
    "plt.figure(figsize=(10,10))\n",
    "plt.title('TRAIN SET')\n",
    "plt.scatter(train[:,0], train[:,1], c = train[:,2])\n",
    "plt.show()"
   ]
  },
  {
   "cell_type": "code",
   "execution_count": null,
   "metadata": {},
   "outputs": [],
   "source": [
    "plt.figure(figsize=(10,10))\n",
    "plt.title('TEST SET')\n",
    "plt.scatter(test[:,0], test[:,1], c = test[:,2])\n",
    "plt.show()"
   ]
  },
  {
   "cell_type": "markdown",
   "metadata": {},
   "source": [
    "## 5. Building our network"
   ]
  },
  {
   "cell_type": "code",
   "execution_count": null,
   "metadata": {},
   "outputs": [],
   "source": [
    "import torch\n",
    "from torch import nn\n",
    "import torch.nn.functional as F\n",
    "from torch import optim\n",
    "from sklearn.metrics import confusion_matrix\n",
    "\n",
    "use_cuda = torch.cuda.is_available()\n",
    "device = torch.device(\"cuda:0\" if use_cuda else \"cpu\")"
   ]
  },
  {
   "cell_type": "code",
   "execution_count": null,
   "metadata": {},
   "outputs": [],
   "source": [
    "trainloader = torch.utils.data.DataLoader(torch.tensor(train, dtype=torch.float32), batch_size=64, shuffle=True)"
   ]
  },
  {
   "cell_type": "code",
   "execution_count": null,
   "metadata": {
    "scrolled": true
   },
   "outputs": [],
   "source": [
    "next(iter(trainloader)).shape"
   ]
  },
  {
   "cell_type": "code",
   "execution_count": null,
   "metadata": {},
   "outputs": [],
   "source": [
    "model = nn.Sequential(nn.Linear(2, 10),\n",
    "                      nn.ReLU(),\n",
    "                      nn.Linear(10, 10),\n",
    "                      nn.ReLU(),\n",
    "                      nn.Linear(10, 8))\n",
    "\n",
    "criterion = nn.CrossEntropyLoss()\n",
    "optimizer = optim.Adam(model.parameters(), lr=0.001)\n",
    "\n",
    "epochs = 1000\n",
    "for e in range(epochs):\n",
    "    running_loss = 0\n",
    "    for batch in trainloader:\n",
    "        coords, labels = batch[:,0:2], batch[:,2].long()\n",
    "        \n",
    "        optimizer.zero_grad()\n",
    "        \n",
    "        output = model(coords)\n",
    "        loss = criterion(output, labels)\n",
    "        loss.backward()\n",
    "        optimizer.step()\n",
    "        \n",
    "        running_loss += loss.item()\n",
    "    if e % 10 == 0 or e == epochs - 1:\n",
    "        print(f\"epoch {e} loss: {running_loss/len(trainloader)}\")"
   ]
  },
  {
   "cell_type": "code",
   "execution_count": null,
   "metadata": {},
   "outputs": [],
   "source": [
    "dataiter = iter(trainloader)\n",
    "batch = next(dataiter)\n",
    "\n",
    "coords, labels = batch[:,0:2], batch[:,2].long()\n",
    "\n",
    "# Turn off gradients to speed up this part\n",
    "with torch.no_grad():\n",
    "    logits = model(coords)\n",
    "\n",
    "# Output of the network are log-probabilities, need to take exponential for probabilities\n",
    "output = np.argmax(logits, axis=1)"
   ]
  },
  {
   "cell_type": "code",
   "execution_count": null,
   "metadata": {},
   "outputs": [],
   "source": [
    "sum(output == labels)/len(output)"
   ]
  },
  {
   "cell_type": "code",
   "execution_count": null,
   "metadata": {},
   "outputs": [],
   "source": [
    "test_tensor = torch.tensor(test, dtype=torch.float32)"
   ]
  },
  {
   "cell_type": "code",
   "execution_count": null,
   "metadata": {},
   "outputs": [],
   "source": [
    "coords, labels = test_tensor[:,0:2], test_tensor[:,2].long()\n",
    "\n",
    "# Turn off gradients to speed up this part\n",
    "with torch.no_grad():\n",
    "    logits = model(coords)\n",
    "\n",
    "# Output of the network are log-probabilities, need to take exponential for probabilities\n",
    "output = np.argmax(logits, axis=1)"
   ]
  },
  {
   "cell_type": "code",
   "execution_count": null,
   "metadata": {},
   "outputs": [],
   "source": [
    "sum(labels == output)/len(output)"
   ]
  },
  {
   "cell_type": "code",
   "execution_count": null,
   "metadata": {},
   "outputs": [],
   "source": [
    "labels == output"
   ]
  },
  {
   "cell_type": "code",
   "execution_count": null,
   "metadata": {},
   "outputs": [],
   "source": [
    "plt.figure(figsize=(10,10))\n",
    "plt.title('TEST SET')\n",
    "plt.scatter(test[:,0], test[:,1], c = output)\n",
    "plt.show()"
   ]
  },
  {
   "cell_type": "code",
   "execution_count": null,
   "metadata": {},
   "outputs": [],
   "source": [
    "confusion_matrix(labels,output)"
   ]
  },
  {
   "cell_type": "code",
   "execution_count": null,
   "metadata": {},
   "outputs": [],
   "source": []
  }
 ],
 "metadata": {
  "kernelspec": {
   "display_name": "Python 3",
   "language": "python",
   "name": "python3"
  },
  "language_info": {
   "codemirror_mode": {
    "name": "ipython",
    "version": 3
   },
   "file_extension": ".py",
   "mimetype": "text/x-python",
   "name": "python",
   "nbconvert_exporter": "python",
   "pygments_lexer": "ipython3",
   "version": "3.6.13"
  }
 },
 "nbformat": 4,
 "nbformat_minor": 2
}
